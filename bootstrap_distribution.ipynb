{
  "nbformat": 4,
  "nbformat_minor": 0,
  "metadata": {
    "colab": {
      "name": "bootstrap_distribution.ipynb",
      "provenance": []
    },
    "kernelspec": {
      "name": "python3",
      "display_name": "Python 3"
    }
  },
  "cells": [
    {
      "cell_type": "code",
      "metadata": {
        "id": "00rZRW-jGT30",
        "colab_type": "code",
        "colab": {}
      },
      "source": [
        "from google.colab import drive\n",
        "drive.mount('/content/drive')"
      ],
      "execution_count": null,
      "outputs": []
    },
    {
      "cell_type": "code",
      "metadata": {
        "id": "9awH62GXGTss",
        "colab_type": "code",
        "colab": {
          "base_uri": "https://localhost:8080/",
          "height": 275
        },
        "outputId": "1b0eccd4-12d4-45ea-ee5e-74569a665af5"
      },
      "source": [
        "import pandas as pd\n",
        "#load data\n",
        "df = pd.read_csv(\"/content/drive/My Drive/covid.csv\")\n",
        "df.dropna(axis=0,how='any',inplace=True)\n",
        "#Prints first five rows\n",
        "df.head()"
      ],
      "execution_count": 2,
      "outputs": [
        {
          "output_type": "execute_result",
          "data": {
            "text/html": [
              "<div>\n",
              "<style scoped>\n",
              "    .dataframe tbody tr th:only-of-type {\n",
              "        vertical-align: middle;\n",
              "    }\n",
              "\n",
              "    .dataframe tbody tr th {\n",
              "        vertical-align: top;\n",
              "    }\n",
              "\n",
              "    .dataframe thead th {\n",
              "        text-align: right;\n",
              "    }\n",
              "</style>\n",
              "<table border=\"1\" class=\"dataframe\">\n",
              "  <thead>\n",
              "    <tr style=\"text-align: right;\">\n",
              "      <th></th>\n",
              "      <th>Country/Region</th>\n",
              "      <th>Confirmed</th>\n",
              "      <th>Deaths</th>\n",
              "      <th>Recovered</th>\n",
              "      <th>Active</th>\n",
              "      <th>New cases</th>\n",
              "      <th>New deaths</th>\n",
              "      <th>New recovered</th>\n",
              "      <th>Deaths / 100 Cases</th>\n",
              "      <th>Recovered / 100 Cases</th>\n",
              "      <th>Deaths / 100 Recovered</th>\n",
              "      <th>Confirmed last week</th>\n",
              "      <th>1 week change</th>\n",
              "      <th>1 week % increase</th>\n",
              "      <th>WHO Region</th>\n",
              "    </tr>\n",
              "  </thead>\n",
              "  <tbody>\n",
              "    <tr>\n",
              "      <th>0</th>\n",
              "      <td>Afghanistan</td>\n",
              "      <td>34994</td>\n",
              "      <td>1094</td>\n",
              "      <td>22456</td>\n",
              "      <td>11444</td>\n",
              "      <td>254</td>\n",
              "      <td>46</td>\n",
              "      <td>1002</td>\n",
              "      <td>3.13</td>\n",
              "      <td>64.17</td>\n",
              "      <td>4.87</td>\n",
              "      <td>33594</td>\n",
              "      <td>1400</td>\n",
              "      <td>4.17</td>\n",
              "      <td>Eastern Mediterranean</td>\n",
              "    </tr>\n",
              "    <tr>\n",
              "      <th>1</th>\n",
              "      <td>Albania</td>\n",
              "      <td>3752</td>\n",
              "      <td>101</td>\n",
              "      <td>2091</td>\n",
              "      <td>1560</td>\n",
              "      <td>85</td>\n",
              "      <td>4</td>\n",
              "      <td>29</td>\n",
              "      <td>2.69</td>\n",
              "      <td>55.73</td>\n",
              "      <td>4.83</td>\n",
              "      <td>3106</td>\n",
              "      <td>646</td>\n",
              "      <td>20.80</td>\n",
              "      <td>Europe</td>\n",
              "    </tr>\n",
              "    <tr>\n",
              "      <th>2</th>\n",
              "      <td>Algeria</td>\n",
              "      <td>20770</td>\n",
              "      <td>1040</td>\n",
              "      <td>14792</td>\n",
              "      <td>4938</td>\n",
              "      <td>554</td>\n",
              "      <td>12</td>\n",
              "      <td>497</td>\n",
              "      <td>5.01</td>\n",
              "      <td>71.22</td>\n",
              "      <td>7.03</td>\n",
              "      <td>17348</td>\n",
              "      <td>3422</td>\n",
              "      <td>19.73</td>\n",
              "      <td>Africa</td>\n",
              "    </tr>\n",
              "    <tr>\n",
              "      <th>3</th>\n",
              "      <td>Andorra</td>\n",
              "      <td>862</td>\n",
              "      <td>52</td>\n",
              "      <td>803</td>\n",
              "      <td>7</td>\n",
              "      <td>1</td>\n",
              "      <td>0</td>\n",
              "      <td>0</td>\n",
              "      <td>6.03</td>\n",
              "      <td>93.16</td>\n",
              "      <td>6.48</td>\n",
              "      <td>855</td>\n",
              "      <td>7</td>\n",
              "      <td>0.82</td>\n",
              "      <td>Europe</td>\n",
              "    </tr>\n",
              "    <tr>\n",
              "      <th>4</th>\n",
              "      <td>Angola</td>\n",
              "      <td>576</td>\n",
              "      <td>27</td>\n",
              "      <td>124</td>\n",
              "      <td>425</td>\n",
              "      <td>35</td>\n",
              "      <td>1</td>\n",
              "      <td>6</td>\n",
              "      <td>4.69</td>\n",
              "      <td>21.53</td>\n",
              "      <td>21.77</td>\n",
              "      <td>386</td>\n",
              "      <td>190</td>\n",
              "      <td>49.22</td>\n",
              "      <td>Africa</td>\n",
              "    </tr>\n",
              "  </tbody>\n",
              "</table>\n",
              "</div>"
            ],
            "text/plain": [
              "  Country/Region  Confirmed  ...  1 week % increase             WHO Region\n",
              "0    Afghanistan      34994  ...               4.17  Eastern Mediterranean\n",
              "1        Albania       3752  ...              20.80                 Europe\n",
              "2        Algeria      20770  ...              19.73                 Africa\n",
              "3        Andorra        862  ...               0.82                 Europe\n",
              "4         Angola        576  ...              49.22                 Africa\n",
              "\n",
              "[5 rows x 15 columns]"
            ]
          },
          "metadata": {
            "tags": []
          },
          "execution_count": 2
        }
      ]
    },
    {
      "cell_type": "markdown",
      "metadata": {
        "id": "iqmk8NEFkIqV",
        "colab_type": "text"
      },
      "source": [
        "\n",
        "\n",
        "*  Fetch 150 samples from population and do sampling i.e calculate sampling distribution mean.\n",
        "*  Fetch 100 samples for 5000 times from the samples which is inturn  from the population in the previous step.\n",
        "* These samples are called as resamples. The process is called resampling.\n",
        "* Once the resampling is done place the samples taken into the original column,Hence known as Random Sampling with replacement\n",
        "\n"
      ]
    },
    {
      "cell_type": "code",
      "metadata": {
        "id": "n-6SvkcMFN-8",
        "colab_type": "code",
        "colab": {
          "base_uri": "https://localhost:8080/",
          "height": 51
        },
        "outputId": "66c54d64-ba35-4b37-8a9c-18c817897df6"
      },
      "source": [
        "import numpy as np\n",
        "from statistics import mean\n",
        "\n",
        "sample_50=[]\n",
        "for i in range(5000):\n",
        "  \n",
        "    sample = np.random.choice(df['Recovered'], 150)\n",
        "    sample_50.append(sample.mean())\n",
        "\n",
        "print(\"population_mean is\",df['Recovered'].mean())\n",
        "bootstrap_sample=[]\n",
        "for i in range(5000):\n",
        "  \n",
        "    sample = np.random.choice(sample_50, 100,replace=True)\n",
        "    bootstrap_sample.append(sample.mean())\n",
        "print(\"bootstrap distribution mean is:\",mean(bootstrap_sample))\n"
      ],
      "execution_count": 14,
      "outputs": [
        {
          "output_type": "stream",
          "text": [
            "population_mean is 39896.03743315508\n",
            "bootstrap distribution mean is: 40130.10931134667\n"
          ],
          "name": "stdout"
        }
      ]
    },
    {
      "cell_type": "code",
      "metadata": {
        "id": "WgG0fkf7GQF2",
        "colab_type": "code",
        "colab": {
          "base_uri": "https://localhost:8080/",
          "height": 991
        },
        "outputId": "9acbe7fe-4077-477f-ace6-6e8239f9bbe4"
      },
      "source": [
        "import matplotlib.pyplot as plt\n",
        "import seaborn as sns\n",
        "\n",
        "%matplotlib inline\n",
        "\n",
        "plt.figure(figsize=(14,8))\n",
        "sns.distplot(df['Recovered'], kde=True)\n",
        "\n",
        "plt.figure(figsize=(14,8))\n",
        "sns.distplot(bootstrap_sample, kde=True)"
      ],
      "execution_count": 15,
      "outputs": [
        {
          "output_type": "execute_result",
          "data": {
            "text/plain": [
              "<matplotlib.axes._subplots.AxesSubplot at 0x7f5fa439fda0>"
            ]
          },
          "metadata": {
            "tags": []
          },
          "execution_count": 15
        },
        {
          "output_type": "display_data",
          "data": {
            "image/png": "[encoded data removed]",
            "text/plain": [
              "<Figure size 1008x576 with 1 Axes>"
            ]
          },
          "metadata": {
            "tags": [],
            "needs_background": "light"
          }
        },
        {
          "output_type": "display_data",
          "data": {
            "image/png": "[encoded data removed]",
            "text/plain": [
              "<Figure size 1008x576 with 1 Axes>"
            ]
          },
          "metadata": {
            "tags": [],
            "needs_background": "light"
          }
        }
      ]
    }
  ]
}