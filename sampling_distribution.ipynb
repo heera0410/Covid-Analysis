{
  "nbformat": 4,
  "nbformat_minor": 0,
  "metadata": {
    "colab": {
      "name": "sampling_distribution.ipynb",
      "provenance": [],
      "collapsed_sections": []
    },
    "kernelspec": {
      "name": "python3",
      "display_name": "Python 3"
    },
    "accelerator": "GPU"
  },
  "cells": [
    {
      "cell_type": "code",
      "metadata": {
        "id": "dA1wyD94gEdX",
        "colab_type": "code",
        "colab": {
          "base_uri": "https://localhost:8080/",
          "height": 122
        },
        "outputId": "0d2262c7-2fba-4d1c-819d-03d3296f55d1"
      },
      "source": [
        "from google.colab import drive\n",
        "drive.mount('/content/drive')"
      ],
      "execution_count": 1,
      "outputs": [
        {
          "output_type": "stream",
          "text": [
            "Go to this URL in a browser: https://accounts.google.com/o/oauth2/auth?client_id=947318989803-6bn6qk8qdgf4n4g3pfee6491hc0brc4i.apps.googleusercontent.com&redirect_uri=urn%3aietf%3awg%3aoauth%3a2.0%3aoob&response_type=code&scope=email%20https%3a%2f%2fwww.googleapis.com%2fauth%2fdocs.test%20https%3a%2f%2fwww.googleapis.com%2fauth%2fdrive%20https%3a%2f%2fwww.googleapis.com%2fauth%2fdrive.photos.readonly%20https%3a%2f%2fwww.googleapis.com%2fauth%2fpeopleapi.readonly\n",
            "\n",
            "Enter your authorization code:\n",
            "··········\n",
            "Mounted at /content/drive\n"
          ],
          "name": "stdout"
        }
      ]
    },
    {
      "cell_type": "code",
      "metadata": {
        "id": "4dYanTFBvqwy",
        "colab_type": "code",
        "colab": {
          "base_uri": "https://localhost:8080/",
          "height": 275
        },
        "outputId": "33e3c06e-c4b9-4cea-dda1-72c7ca71b6e0"
      },
      "source": [
        "import pandas as pd\n",
        "#load data into dataframe\n",
        "df = pd.read_csv(\"/content/drive/My Drive/covid.csv\")\n",
        "df.dropna(axis=0,how='any',inplace=True)\n",
        "#Prints first five rows\n",
        "df.head()\n"
      ],
      "execution_count": 2,
      "outputs": [
        {
          "output_type": "execute_result",
          "data": {
            "text/html": [
              "<div>\n",
              "<style scoped>\n",
              "    .dataframe tbody tr th:only-of-type {\n",
              "        vertical-align: middle;\n",
              "    }\n",
              "\n",
              "    .dataframe tbody tr th {\n",
              "        vertical-align: top;\n",
              "    }\n",
              "\n",
              "    .dataframe thead th {\n",
              "        text-align: right;\n",
              "    }\n",
              "</style>\n",
              "<table border=\"1\" class=\"dataframe\">\n",
              "  <thead>\n",
              "    <tr style=\"text-align: right;\">\n",
              "      <th></th>\n",
              "      <th>Country/Region</th>\n",
              "      <th>Confirmed</th>\n",
              "      <th>Deaths</th>\n",
              "      <th>Recovered</th>\n",
              "      <th>Active</th>\n",
              "      <th>New cases</th>\n",
              "      <th>New deaths</th>\n",
              "      <th>New recovered</th>\n",
              "      <th>Deaths / 100 Cases</th>\n",
              "      <th>Recovered / 100 Cases</th>\n",
              "      <th>Deaths / 100 Recovered</th>\n",
              "      <th>Confirmed last week</th>\n",
              "      <th>1 week change</th>\n",
              "      <th>1 week % increase</th>\n",
              "      <th>WHO Region</th>\n",
              "    </tr>\n",
              "  </thead>\n",
              "  <tbody>\n",
              "    <tr>\n",
              "      <th>0</th>\n",
              "      <td>Afghanistan</td>\n",
              "      <td>34994</td>\n",
              "      <td>1094</td>\n",
              "      <td>22456</td>\n",
              "      <td>11444</td>\n",
              "      <td>254</td>\n",
              "      <td>46</td>\n",
              "      <td>1002</td>\n",
              "      <td>3.13</td>\n",
              "      <td>64.17</td>\n",
              "      <td>4.87</td>\n",
              "      <td>33594</td>\n",
              "      <td>1400</td>\n",
              "      <td>4.17</td>\n",
              "      <td>Eastern Mediterranean</td>\n",
              "    </tr>\n",
              "    <tr>\n",
              "      <th>1</th>\n",
              "      <td>Albania</td>\n",
              "      <td>3752</td>\n",
              "      <td>101</td>\n",
              "      <td>2091</td>\n",
              "      <td>1560</td>\n",
              "      <td>85</td>\n",
              "      <td>4</td>\n",
              "      <td>29</td>\n",
              "      <td>2.69</td>\n",
              "      <td>55.73</td>\n",
              "      <td>4.83</td>\n",
              "      <td>3106</td>\n",
              "      <td>646</td>\n",
              "      <td>20.80</td>\n",
              "      <td>Europe</td>\n",
              "    </tr>\n",
              "    <tr>\n",
              "      <th>2</th>\n",
              "      <td>Algeria</td>\n",
              "      <td>20770</td>\n",
              "      <td>1040</td>\n",
              "      <td>14792</td>\n",
              "      <td>4938</td>\n",
              "      <td>554</td>\n",
              "      <td>12</td>\n",
              "      <td>497</td>\n",
              "      <td>5.01</td>\n",
              "      <td>71.22</td>\n",
              "      <td>7.03</td>\n",
              "      <td>17348</td>\n",
              "      <td>3422</td>\n",
              "      <td>19.73</td>\n",
              "      <td>Africa</td>\n",
              "    </tr>\n",
              "    <tr>\n",
              "      <th>3</th>\n",
              "      <td>Andorra</td>\n",
              "      <td>862</td>\n",
              "      <td>52</td>\n",
              "      <td>803</td>\n",
              "      <td>7</td>\n",
              "      <td>1</td>\n",
              "      <td>0</td>\n",
              "      <td>0</td>\n",
              "      <td>6.03</td>\n",
              "      <td>93.16</td>\n",
              "      <td>6.48</td>\n",
              "      <td>855</td>\n",
              "      <td>7</td>\n",
              "      <td>0.82</td>\n",
              "      <td>Europe</td>\n",
              "    </tr>\n",
              "    <tr>\n",
              "      <th>4</th>\n",
              "      <td>Angola</td>\n",
              "      <td>576</td>\n",
              "      <td>27</td>\n",
              "      <td>124</td>\n",
              "      <td>425</td>\n",
              "      <td>35</td>\n",
              "      <td>1</td>\n",
              "      <td>6</td>\n",
              "      <td>4.69</td>\n",
              "      <td>21.53</td>\n",
              "      <td>21.77</td>\n",
              "      <td>386</td>\n",
              "      <td>190</td>\n",
              "      <td>49.22</td>\n",
              "      <td>Africa</td>\n",
              "    </tr>\n",
              "  </tbody>\n",
              "</table>\n",
              "</div>"
            ],
            "text/plain": [
              "  Country/Region  Confirmed  ...  1 week % increase             WHO Region\n",
              "0    Afghanistan      34994  ...               4.17  Eastern Mediterranean\n",
              "1        Albania       3752  ...              20.80                 Europe\n",
              "2        Algeria      20770  ...              19.73                 Africa\n",
              "3        Andorra        862  ...               0.82                 Europe\n",
              "4         Angola        576  ...              49.22                 Africa\n",
              "\n",
              "[5 rows x 15 columns]"
            ]
          },
          "metadata": {
            "tags": []
          },
          "execution_count": 2
        }
      ]
    },
    {
      "cell_type": "markdown",
      "metadata": {
        "id": "pC9bNw97irYm",
        "colab_type": "text"
      },
      "source": [
        "\n",
        "\n",
        "\n",
        "*  Get the population mean of the selected column.\n",
        "*  Calculate the sampling distribution mean by taking 100 samples for 5000 times.\n",
        "*  Compare the population and samping distribution mean to check whether they are equal.\n",
        "\n",
        "\n",
        "\n",
        "\n",
        "\n",
        "\n",
        "\n"
      ]
    },
    {
      "cell_type": "code",
      "metadata": {
        "id": "vxUoWxvUwcCG",
        "colab_type": "code",
        "colab": {
          "base_uri": "https://localhost:8080/",
          "height": 51
        },
        "outputId": "4d7937b1-0a28-4790-8abe-6e5ce645a4d6"
      },
      "source": [
        "import numpy as np\n",
        "from statistics import mean\n",
        "\n",
        "print(\"population_mean is\",df['Confirmed'].mean())\n",
        "sample_50 = []\n",
        "\n",
        "for i in range(5000):\n",
        "  \n",
        "    sample = np.random.choice(df['Confirmed'], 100)\n",
        "    sample_50.append(sample.mean())\n",
        "print(\"sampling distribution mean is:\",mean(sample_50))\n"
      ],
      "execution_count": 10,
      "outputs": [
        {
          "output_type": "stream",
          "text": [
            "population_mean is 72485.50267379679\n",
            "sampling distribution mean is: 72215.308034\n"
          ],
          "name": "stdout"
        }
      ]
    },
    {
      "cell_type": "code",
      "metadata": {
        "id": "BZL_t9c4xiYj",
        "colab_type": "code",
        "colab": {
          "base_uri": "https://localhost:8080/",
          "height": 1000
        },
        "outputId": "9b89fc4b-8d9c-4450-91ba-ca0d41b97d9d"
      },
      "source": [
        "import matplotlib.pyplot as plt\n",
        "import seaborn as sns\n",
        "\n",
        "%matplotlib inline\n",
        "\n",
        "plt.figure(figsize=(14,8))\n",
        "sns.distplot(df['Confirmed'], kde=True)\n",
        "\n",
        "plt.figure(figsize=(14,8))\n",
        "sns.distplot(sample_50, kde=True)"
      ],
      "execution_count": 11,
      "outputs": [
        {
          "output_type": "execute_result",
          "data": {
            "text/plain": [
              "<matplotlib.axes._subplots.AxesSubplot at 0x7fb5781e9160>"
            ]
          },
          "metadata": {
            "tags": []
          },
          "execution_count": 11
        },
        {
          "output_type": "display_data",
          "data": {
            "image/png": "[encoded data removed]",
            "text/plain": [
              "<Figure size 1008x576 with 1 Axes>"
            ]
          },
          "metadata": {
            "tags": [],
            "needs_background": "light"
          }
        },
        {
          "output_type": "display_data",
          "data": {
            "image/png": "[encoded data removed]",
            "text/plain": [
              "<Figure size 1008x576 with 1 Axes>"
            ]
          },
          "metadata": {
            "tags": [],
            "needs_background": "light"
          }
        }
      ]
    }
  ]
}