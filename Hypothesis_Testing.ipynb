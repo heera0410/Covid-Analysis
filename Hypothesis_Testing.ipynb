{
  "nbformat": 4,
  "nbformat_minor": 0,
  "metadata": {
    "colab": {
      "name": "Hypothesis_Testing.ipynb",
      "provenance": [],
      "collapsed_sections": []
    },
    "kernelspec": {
      "name": "python3",
      "display_name": "Python 3"
    },
    "accelerator": "GPU"
  },
  "cells": [
    {
      "cell_type": "code",
      "metadata": {
        "id": "WIaMKhVSZ-94",
        "colab_type": "code",
        "colab": {}
      },
      "source": [
        "from google.colab import drive\n",
        "drive.mount('/content/drive')"
      ],
      "execution_count": null,
      "outputs": []
    },
    {
      "cell_type": "code",
      "metadata": {
        "id": "Odd05NMUaphB",
        "colab_type": "code",
        "colab": {}
      },
      "source": [
        "import pandas as pd\n",
        "df=pd.read_csv('/content/drive/My Drive/covid.csv')\n",
        "df.dropna(axis=0,how='any',inplace=True)\n"
      ],
      "execution_count": 3,
      "outputs": []
    },
    {
      "cell_type": "code",
      "metadata": {
        "id": "vAyLNxBRLH9e",
        "colab_type": "code",
        "colab": {
          "base_uri": "https://localhost:8080/",
          "height": 275
        },
        "outputId": "1c350ac0-3955-4e18-8719-fdfe3e79da55"
      },
      "source": [
        "df.head()"
      ],
      "execution_count": 4,
      "outputs": [
        {
          "output_type": "execute_result",
          "data": {
            "text/html": [
              "<div>\n",
              "<style scoped>\n",
              "    .dataframe tbody tr th:only-of-type {\n",
              "        vertical-align: middle;\n",
              "    }\n",
              "\n",
              "    .dataframe tbody tr th {\n",
              "        vertical-align: top;\n",
              "    }\n",
              "\n",
              "    .dataframe thead th {\n",
              "        text-align: right;\n",
              "    }\n",
              "</style>\n",
              "<table border=\"1\" class=\"dataframe\">\n",
              "  <thead>\n",
              "    <tr style=\"text-align: right;\">\n",
              "      <th></th>\n",
              "      <th>Country/Region</th>\n",
              "      <th>Confirmed</th>\n",
              "      <th>Deaths</th>\n",
              "      <th>Recovered</th>\n",
              "      <th>Active</th>\n",
              "      <th>New cases</th>\n",
              "      <th>New deaths</th>\n",
              "      <th>New recovered</th>\n",
              "      <th>Deaths / 100 Cases</th>\n",
              "      <th>Recovered / 100 Cases</th>\n",
              "      <th>Deaths / 100 Recovered</th>\n",
              "      <th>Confirmed last week</th>\n",
              "      <th>1 week change</th>\n",
              "      <th>1 week % increase</th>\n",
              "      <th>WHO Region</th>\n",
              "    </tr>\n",
              "  </thead>\n",
              "  <tbody>\n",
              "    <tr>\n",
              "      <th>0</th>\n",
              "      <td>Afghanistan</td>\n",
              "      <td>34994</td>\n",
              "      <td>1094</td>\n",
              "      <td>22456</td>\n",
              "      <td>11444</td>\n",
              "      <td>254</td>\n",
              "      <td>46</td>\n",
              "      <td>1002</td>\n",
              "      <td>3.13</td>\n",
              "      <td>64.17</td>\n",
              "      <td>4.87</td>\n",
              "      <td>33594</td>\n",
              "      <td>1400</td>\n",
              "      <td>4.17</td>\n",
              "      <td>Eastern Mediterranean</td>\n",
              "    </tr>\n",
              "    <tr>\n",
              "      <th>1</th>\n",
              "      <td>Albania</td>\n",
              "      <td>3752</td>\n",
              "      <td>101</td>\n",
              "      <td>2091</td>\n",
              "      <td>1560</td>\n",
              "      <td>85</td>\n",
              "      <td>4</td>\n",
              "      <td>29</td>\n",
              "      <td>2.69</td>\n",
              "      <td>55.73</td>\n",
              "      <td>4.83</td>\n",
              "      <td>3106</td>\n",
              "      <td>646</td>\n",
              "      <td>20.80</td>\n",
              "      <td>Europe</td>\n",
              "    </tr>\n",
              "    <tr>\n",
              "      <th>2</th>\n",
              "      <td>Algeria</td>\n",
              "      <td>20770</td>\n",
              "      <td>1040</td>\n",
              "      <td>14792</td>\n",
              "      <td>4938</td>\n",
              "      <td>554</td>\n",
              "      <td>12</td>\n",
              "      <td>497</td>\n",
              "      <td>5.01</td>\n",
              "      <td>71.22</td>\n",
              "      <td>7.03</td>\n",
              "      <td>17348</td>\n",
              "      <td>3422</td>\n",
              "      <td>19.73</td>\n",
              "      <td>Africa</td>\n",
              "    </tr>\n",
              "    <tr>\n",
              "      <th>3</th>\n",
              "      <td>Andorra</td>\n",
              "      <td>862</td>\n",
              "      <td>52</td>\n",
              "      <td>803</td>\n",
              "      <td>7</td>\n",
              "      <td>1</td>\n",
              "      <td>0</td>\n",
              "      <td>0</td>\n",
              "      <td>6.03</td>\n",
              "      <td>93.16</td>\n",
              "      <td>6.48</td>\n",
              "      <td>855</td>\n",
              "      <td>7</td>\n",
              "      <td>0.82</td>\n",
              "      <td>Europe</td>\n",
              "    </tr>\n",
              "    <tr>\n",
              "      <th>4</th>\n",
              "      <td>Angola</td>\n",
              "      <td>576</td>\n",
              "      <td>27</td>\n",
              "      <td>124</td>\n",
              "      <td>425</td>\n",
              "      <td>35</td>\n",
              "      <td>1</td>\n",
              "      <td>6</td>\n",
              "      <td>4.69</td>\n",
              "      <td>21.53</td>\n",
              "      <td>21.77</td>\n",
              "      <td>386</td>\n",
              "      <td>190</td>\n",
              "      <td>49.22</td>\n",
              "      <td>Africa</td>\n",
              "    </tr>\n",
              "  </tbody>\n",
              "</table>\n",
              "</div>"
            ],
            "text/plain": [
              "  Country/Region  Confirmed  ...  1 week % increase             WHO Region\n",
              "0    Afghanistan      34994  ...               4.17  Eastern Mediterranean\n",
              "1        Albania       3752  ...              20.80                 Europe\n",
              "2        Algeria      20770  ...              19.73                 Africa\n",
              "3        Andorra        862  ...               0.82                 Europe\n",
              "4         Angola        576  ...              49.22                 Africa\n",
              "\n",
              "[5 rows x 15 columns]"
            ]
          },
          "metadata": {
            "tags": []
          },
          "execution_count": 4
        }
      ]
    },
    {
      "cell_type": "markdown",
      "metadata": {
        "id": "qczWW8g7loq2",
        "colab_type": "text"
      },
      "source": [
        "* ttest_1samp is the method imported from stats module which is used for two tailed test.\n",
        "* Return values are t-statistic and p-value.\n",
        "* Average of confirmed cases is assumed as 10000 (Null hypothesis) which is 72000 approximately according to the dataset.\n",
        "* Since our assumption is false,Null hypothesis is rejected."
      ]
    },
    {
      "cell_type": "code",
      "metadata": {
        "id": "cHSqD7iqaCdy",
        "colab_type": "code",
        "colab": {
          "base_uri": "https://localhost:8080/",
          "height": 51
        },
        "outputId": "0bc7e27c-ff71-49e0-a15d-23d737562c29"
      },
      "source": [
        "from scipy import stats\n",
        "results=stats.ttest_1samp(df['Confirmed'],10000)\n",
        "print(\"t-statistic and probability value are:\",results[0],results[1])\n",
        "if results[1]<0.05:\n",
        "  print(\"reject null hypothesis\")\n",
        "else:\n",
        "  print(\"accept null hypothesis\")"
      ],
      "execution_count": 13,
      "outputs": [
        {
          "output_type": "stream",
          "text": [
            "t-statistic and probability value are: 2.764047914297747 0.006283350981639868\n",
            "reject null hypothesis\n"
          ],
          "name": "stdout"
        }
      ]
    }
  ]
}