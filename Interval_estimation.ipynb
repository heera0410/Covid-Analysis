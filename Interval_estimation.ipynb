{
  "nbformat": 4,
  "nbformat_minor": 0,
  "metadata": {
    "colab": {
      "name": "Interval_estimation.ipynb",
      "provenance": [],
      "collapsed_sections": []
    },
    "kernelspec": {
      "name": "python3",
      "display_name": "Python 3"
    }
  },
  "cells": [
    {
      "cell_type": "code",
      "metadata": {
        "id": "hba-TGDfXp7L",
        "colab_type": "code",
        "colab": {}
      },
      "source": [
        "from google.colab import drive\n",
        "drive.mount('/content/drive')"
      ],
      "execution_count": null,
      "outputs": []
    },
    {
      "cell_type": "code",
      "metadata": {
        "id": "2c3-GwAsYAnb",
        "colab_type": "code",
        "colab": {
          "base_uri": "https://localhost:8080/",
          "height": 275
        },
        "outputId": "c712f774-df6a-4ecc-8193-e80361aa3b02"
      },
      "source": [
        "import pandas as pd\n",
        "df=pd.read_csv('/content/drive/My Drive/covid.csv')\n",
        "df.dropna(axis=0,how='any',inplace=True)\n",
        "df.head()"
      ],
      "execution_count": null,
      "outputs": [
        {
          "output_type": "execute_result",
          "data": {
            "text/html": [
              "<div>\n",
              "<style scoped>\n",
              "    .dataframe tbody tr th:only-of-type {\n",
              "        vertical-align: middle;\n",
              "    }\n",
              "\n",
              "    .dataframe tbody tr th {\n",
              "        vertical-align: top;\n",
              "    }\n",
              "\n",
              "    .dataframe thead th {\n",
              "        text-align: right;\n",
              "    }\n",
              "</style>\n",
              "<table border=\"1\" class=\"dataframe\">\n",
              "  <thead>\n",
              "    <tr style=\"text-align: right;\">\n",
              "      <th></th>\n",
              "      <th>Country/Region</th>\n",
              "      <th>Confirmed</th>\n",
              "      <th>Deaths</th>\n",
              "      <th>Recovered</th>\n",
              "      <th>Active</th>\n",
              "      <th>New cases</th>\n",
              "      <th>New deaths</th>\n",
              "      <th>New recovered</th>\n",
              "      <th>Deaths / 100 Cases</th>\n",
              "      <th>Recovered / 100 Cases</th>\n",
              "      <th>Deaths / 100 Recovered</th>\n",
              "      <th>Confirmed last week</th>\n",
              "      <th>1 week change</th>\n",
              "      <th>1 week % increase</th>\n",
              "      <th>WHO Region</th>\n",
              "    </tr>\n",
              "  </thead>\n",
              "  <tbody>\n",
              "    <tr>\n",
              "      <th>0</th>\n",
              "      <td>Afghanistan</td>\n",
              "      <td>34994</td>\n",
              "      <td>1094</td>\n",
              "      <td>22456</td>\n",
              "      <td>11444</td>\n",
              "      <td>254</td>\n",
              "      <td>46</td>\n",
              "      <td>1002</td>\n",
              "      <td>3.13</td>\n",
              "      <td>64.17</td>\n",
              "      <td>4.87</td>\n",
              "      <td>33594</td>\n",
              "      <td>1400</td>\n",
              "      <td>4.17</td>\n",
              "      <td>Eastern Mediterranean</td>\n",
              "    </tr>\n",
              "    <tr>\n",
              "      <th>1</th>\n",
              "      <td>Albania</td>\n",
              "      <td>3752</td>\n",
              "      <td>101</td>\n",
              "      <td>2091</td>\n",
              "      <td>1560</td>\n",
              "      <td>85</td>\n",
              "      <td>4</td>\n",
              "      <td>29</td>\n",
              "      <td>2.69</td>\n",
              "      <td>55.73</td>\n",
              "      <td>4.83</td>\n",
              "      <td>3106</td>\n",
              "      <td>646</td>\n",
              "      <td>20.80</td>\n",
              "      <td>Europe</td>\n",
              "    </tr>\n",
              "    <tr>\n",
              "      <th>2</th>\n",
              "      <td>Algeria</td>\n",
              "      <td>20770</td>\n",
              "      <td>1040</td>\n",
              "      <td>14792</td>\n",
              "      <td>4938</td>\n",
              "      <td>554</td>\n",
              "      <td>12</td>\n",
              "      <td>497</td>\n",
              "      <td>5.01</td>\n",
              "      <td>71.22</td>\n",
              "      <td>7.03</td>\n",
              "      <td>17348</td>\n",
              "      <td>3422</td>\n",
              "      <td>19.73</td>\n",
              "      <td>Africa</td>\n",
              "    </tr>\n",
              "    <tr>\n",
              "      <th>3</th>\n",
              "      <td>Andorra</td>\n",
              "      <td>862</td>\n",
              "      <td>52</td>\n",
              "      <td>803</td>\n",
              "      <td>7</td>\n",
              "      <td>1</td>\n",
              "      <td>0</td>\n",
              "      <td>0</td>\n",
              "      <td>6.03</td>\n",
              "      <td>93.16</td>\n",
              "      <td>6.48</td>\n",
              "      <td>855</td>\n",
              "      <td>7</td>\n",
              "      <td>0.82</td>\n",
              "      <td>Europe</td>\n",
              "    </tr>\n",
              "    <tr>\n",
              "      <th>4</th>\n",
              "      <td>Angola</td>\n",
              "      <td>576</td>\n",
              "      <td>27</td>\n",
              "      <td>124</td>\n",
              "      <td>425</td>\n",
              "      <td>35</td>\n",
              "      <td>1</td>\n",
              "      <td>6</td>\n",
              "      <td>4.69</td>\n",
              "      <td>21.53</td>\n",
              "      <td>21.77</td>\n",
              "      <td>386</td>\n",
              "      <td>190</td>\n",
              "      <td>49.22</td>\n",
              "      <td>Africa</td>\n",
              "    </tr>\n",
              "  </tbody>\n",
              "</table>\n",
              "</div>"
            ],
            "text/plain": [
              "  Country/Region  Confirmed  ...  1 week % increase             WHO Region\n",
              "0    Afghanistan      34994  ...               4.17  Eastern Mediterranean\n",
              "1        Albania       3752  ...              20.80                 Europe\n",
              "2        Algeria      20770  ...              19.73                 Africa\n",
              "3        Andorra        862  ...               0.82                 Europe\n",
              "4         Angola        576  ...              49.22                 Africa\n",
              "\n",
              "[5 rows x 15 columns]"
            ]
          },
          "metadata": {
            "tags": []
          },
          "execution_count": 44
        }
      ]
    },
    {
      "cell_type": "code",
      "metadata": {
        "id": "NWZNdOBVZBdA",
        "colab_type": "code",
        "colab": {
          "base_uri": "https://localhost:8080/",
          "height": 34
        },
        "outputId": "9a8c4b2e-27f2-40f1-c101-91bcfd6cf214"
      },
      "source": [
        "population_mean=df['Active'].mean()\n",
        "print(\"population_mean:\",population_mean)"
      ],
      "execution_count": null,
      "outputs": [
        {
          "output_type": "stream",
          "text": [
            "population_mean: 29465.85026737968\n"
          ],
          "name": "stdout"
        }
      ]
    },
    {
      "cell_type": "code",
      "metadata": {
        "id": "baYIXDokYy_H",
        "colab_type": "code",
        "colab": {
          "base_uri": "https://localhost:8080/",
          "height": 34
        },
        "outputId": "c3c39209-accf-44c3-b56d-f03909891272"
      },
      "source": [
        "import numpy as np\n",
        "sample=np.random.choice(df['Active'],50)\n",
        "sample_mean=sample.mean()\n",
        "print(\"sample_mean:\",sample_mean)"
      ],
      "execution_count": null,
      "outputs": [
        {
          "output_type": "stream",
          "text": [
            "sample_mean: 13440.4\n"
          ],
          "name": "stdout"
        }
      ]
    },
    {
      "cell_type": "markdown",
      "metadata": {
        "id": "6twDnUw7nxjY",
        "colab_type": "text"
      },
      "source": [
        "Estimating the confidence interval within which the population mean,sample mean and sample proportion falls"
      ]
    },
    {
      "cell_type": "markdown",
      "metadata": {
        "id": "n5T_1arInYyT",
        "colab_type": "text"
      },
      "source": [
        "**QUANTITATIVE VARIABLE**"
      ]
    },
    {
      "cell_type": "markdown",
      "metadata": {
        "id": "WQusSX5qnim3",
        "colab_type": "text"
      },
      "source": [
        "KNOWN POPULATION STANDARD DEVIATION"
      ]
    },
    {
      "cell_type": "code",
      "metadata": {
        "id": "rFd7NlW8c9C3",
        "colab_type": "code",
        "colab": {
          "base_uri": "https://localhost:8080/",
          "height": 34
        },
        "outputId": "e945c08d-5913-448f-82dd-3caaa3d98ade"
      },
      "source": [
        "\n",
        "import scipy.stats as stats\n",
        "z_score=stats.norm.ppf(q=0.924)\n",
        "# print(\"z-score of 90% confidence interval:\",z_score)\n",
        "import math\n",
        "sample_size=50\n",
        "population_std=df['Active'].std()\n",
        "margin_of_error=z_score*(population_std/math.sqrt(sample_size))\n",
        "start_value=sample_mean-margin_of_error\n",
        "end_value=sample_mean+margin_of_error\n",
        "print(\"confidence interval:\",start_value,end_value)"
      ],
      "execution_count": null,
      "outputs": [
        {
          "output_type": "stream",
          "text": [
            "confidence interval: -21965.672872267576 48846.47287226758\n"
          ],
          "name": "stdout"
        }
      ]
    },
    {
      "cell_type": "markdown",
      "metadata": {
        "id": "ds7StCVAnogM",
        "colab_type": "text"
      },
      "source": [
        "UNKNOWN POPULATION STANDARD DEVIATION"
      ]
    },
    {
      "cell_type": "code",
      "metadata": {
        "id": "SSGuSQe2fO9u",
        "colab_type": "code",
        "colab": {
          "base_uri": "https://localhost:8080/",
          "height": 51
        },
        "outputId": "6f032744-f471-423d-bfcc-6395386793e9"
      },
      "source": [
        "\n",
        "sample_size=50\n",
        "t_score=stats.t.ppf(q=0.924,df=sample_size-1)\n",
        "sample_std=sample.std()\n",
        "# print(\"sample_standard_deviation\",sample_std)\n",
        "standard_error=sample_std/math.sqrt(sample_size)\n",
        "margin_of_error=t_score*standard_error\n",
        "start_value=sample_mean-margin_of_error\n",
        "end_value=sample_mean+margin_of_error\n",
        "print(\"confidence interval:\",start_value,end_value)\n",
        "\n",
        "\n"
      ],
      "execution_count": null,
      "outputs": [
        {
          "output_type": "stream",
          "text": [
            "confidence interval: 7974.8647026411545 18905.935297358847\n",
            "sample mean: 13440.4\n"
          ],
          "name": "stdout"
        }
      ]
    },
    {
      "cell_type": "markdown",
      "metadata": {
        "id": "-ngulaEi_9nI",
        "colab_type": "text"
      },
      "source": [
        "**QUALITATIVE VARIABLE**"
      ]
    },
    {
      "cell_type": "markdown",
      "metadata": {
        "id": "dceQlvaOnPMD",
        "colab_type": "text"
      },
      "source": [
        "Known population proportion "
      ]
    },
    {
      "cell_type": "code",
      "metadata": {
        "id": "9Y4MSykI_xQp",
        "colab_type": "code",
        "colab": {
          "base_uri": "https://localhost:8080/",
          "height": 85
        },
        "outputId": "9dcbe9fe-9318-413a-c447-718d78598cc3"
      },
      "source": [
        "Total_population_rows=188\n",
        "sample_size=50\n",
        "sample=np.random.choice(df['WHO Region'],sample_size)\n",
        "\n",
        "from collections import Counter\n",
        "population=Counter(df['WHO Region'])\n",
        "print(\"population count:\",population)\n",
        "population_proportion=population['Africa']/Total_population_rows\n",
        "print(\"population_proportion:\",population_proportion)\n",
        "occurrences_of_region_in_WHO=Counter(sample) # counts the elements frequency\n",
        "sample_proportion=occurrences_of_region_in_WHO['Africa']/sample_size\n",
        "print(\"sample proportion:\",sample_proportion)\n",
        "standard_error=math.sqrt(population_proportion*(1-population_proportion)/sample_size)\n",
        "margin_of_error=stats.norm.ppf(q=0.924)*standard_error\n",
        "start_value=sample_proportion-margin_of_error\n",
        "end_value=sample_proportion+margin_of_error\n",
        "print(\"confidence interval:\",start_value,end_value)"
      ],
      "execution_count": null,
      "outputs": [
        {
          "output_type": "stream",
          "text": [
            "population count: Counter({'Europe': 56, 'Africa': 48, 'Americas': 35, 'Eastern Mediterranean': 22, 'Western Pacific': 16, 'South-East Asia': 10})\n",
            "population_proportion: 0.2553191489361702\n",
            "sample proportion: 0.3\n",
            "confidence interval: 0.21166409950030518 0.3883359004996948\n"
          ],
          "name": "stdout"
        }
      ]
    },
    {
      "cell_type": "markdown",
      "metadata": {
        "id": "nYp53ofq3ENy",
        "colab_type": "text"
      },
      "source": [
        "Unknown population proportion\n"
      ]
    },
    {
      "cell_type": "code",
      "metadata": {
        "id": "Pymont7u3AYf",
        "colab_type": "code",
        "colab": {
          "base_uri": "https://localhost:8080/",
          "height": 68
        },
        "outputId": "0a3ebbc8-5cbf-4b5e-d823-ad0889a1cb6c"
      },
      "source": [
        "sample_size=50\n",
        "sample=np.random.choice(df['WHO Region'],sample_size)\n",
        "\n",
        "from collections import Counter\n",
        "occurrences_of_region_in_WHO=Counter(sample) # counts the elements frequency\n",
        "print(\"sample_count\",occurrences_of_region_in_WHO)\n",
        "sample_proportion=occurrences_of_region_in_WHO['Europe']/sample_size\n",
        "print(\"sample proportion:\",sample_proportion)\n",
        "standard_error=math.sqrt(sample_proportion*(1-sample_proportion)/sample_size)\n",
        "margin_of_error=stats.norm.ppf(q=0.924)*standard_error\n",
        "start_value=sample_proportion-margin_of_error\n",
        "end_value=sample_proportion+margin_of_error\n",
        "print(\"confidence interval:\",start_value,end_value)"
      ],
      "execution_count": null,
      "outputs": [
        {
          "output_type": "stream",
          "text": [
            "sample_count Counter({'Africa': 14, 'Europe': 11, 'Americas': 8, 'Eastern Mediterranean': 7, 'Western Pacific': 6, 'South-East Asia': 4})\n",
            "sample proportion: 0.22\n",
            "confidence interval: 0.13607930050914163 0.30392069949085837\n"
          ],
          "name": "stdout"
        }
      ]
    }
  ]
}